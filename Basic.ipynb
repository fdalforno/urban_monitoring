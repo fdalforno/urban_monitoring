{
 "cells": [
  {
   "cell_type": "markdown",
   "id": "165e4570",
   "metadata": {},
   "source": [
    "# Introduzione a Tensorflow 2.x\n",
    "\n",
    "Tensorflow è la libreria messa a disposizione da Google che abilita a al machine learning. \n",
    "Di solito viene utilizzata con python anche se è disponibile in altri linguaggi.\n",
    "\n",
    "Iniziamo ora ad eseguire alcune righe di codice per carpirne il suo funzionamento"
   ]
  },
  {
   "cell_type": "code",
   "execution_count": 1,
   "id": "d59418e1",
   "metadata": {},
   "outputs": [
    {
     "name": "stdout",
     "output_type": "stream",
     "text": [
      "TensorFlow version: 2.5.0\n",
      "Eager execution is: True\n",
      "Keras version: 2.5.0\n"
     ]
    }
   ],
   "source": [
    "import tensorflow as tf\n",
    "print(\"TensorFlow version: {}\".format(tf.__version__))\n",
    "print(\"Eager execution is: {}\".format(tf.executing_eagerly()))\n",
    "print(\"Keras version: {}\".format(tf.keras.__version__))\n",
    "\n",
    "#per il nostro lavoro è importante che la versione sia la 2.5"
   ]
  },
  {
   "cell_type": "code",
   "execution_count": 2,
   "id": "e44c5284",
   "metadata": {},
   "outputs": [
    {
     "name": "stdout",
     "output_type": "stream",
     "text": [
      "Please install GPU version of TF\n"
     ]
    }
   ],
   "source": [
    "if tf.test.gpu_device_name(): \n",
    "  print('Default GPU Device:{}'.format(tf.test.gpu_device_name()))\n",
    "else:\n",
    "  print(\"Please install GPU version of TF\")"
   ]
  },
  {
   "cell_type": "markdown",
   "id": "3883ab35",
   "metadata": {},
   "source": [
    "## Tensori\n",
    "\n",
    "Abbiamo visto nelle discussioni precedenti cosa è un tensore ma per completezza della lezione ripetiamo il concetto.\n",
    "Un tensore è una generalizzazione dei vettori e delle matrici, come potrete immaginare tensorflow è una libreria che permette di lavorare con tensori a n dimensioni.\n",
    "\n",
    "Un tensore è rappresentato da due parametri:\n",
    "\n",
    "* Il DataType che specifica il tipo dei valori in esso contenuti ad esempio float32, int32, string\n",
    "* Lo Shape che specifica le dimensioni del dato\n",
    "\n",
    "Tutti i tensori sono immutabili, nel senso che una volta creati non possono essere modificati al massimo se ne può creare uno nuovo con il valore voluto cominciamo con il creare un valore \"scalare\" con rank pari a 0"
   ]
  },
  {
   "cell_type": "code",
   "execution_count": 3,
   "id": "9d093226",
   "metadata": {},
   "outputs": [
    {
     "name": "stdout",
     "output_type": "stream",
     "text": [
      "tf.Tensor(4, shape=(), dtype=int32)\n"
     ]
    }
   ],
   "source": [
    "rank_0_tensor = tf.constant(4)\n",
    "print(rank_0_tensor)"
   ]
  },
  {
   "cell_type": "markdown",
   "id": "ab0e5bd0",
   "metadata": {},
   "source": [
    "Creiamo un vettore con \"rank\" pari a 1"
   ]
  },
  {
   "cell_type": "code",
   "execution_count": 4,
   "id": "d030d1e8",
   "metadata": {},
   "outputs": [
    {
     "name": "stdout",
     "output_type": "stream",
     "text": [
      "tf.Tensor([2. 3. 4.], shape=(3,), dtype=float32)\n"
     ]
    }
   ],
   "source": [
    "rank_1_tensor = tf.constant([2.0, 3.0, 4.0])\n",
    "print(rank_1_tensor)"
   ]
  },
  {
   "cell_type": "markdown",
   "id": "f0ef8c39",
   "metadata": {},
   "source": [
    "ed una matrice con rank (rango) pari a 2"
   ]
  },
  {
   "cell_type": "code",
   "execution_count": 5,
   "id": "53393b8f",
   "metadata": {},
   "outputs": [
    {
     "name": "stdout",
     "output_type": "stream",
     "text": [
      "tf.Tensor(\n",
      "[[1. 2.]\n",
      " [3. 4.]\n",
      " [5. 6.]], shape=(3, 2), dtype=float16)\n"
     ]
    }
   ],
   "source": [
    "rank_2_tensor = tf.constant([[1, 2],\n",
    "                             [3, 4],\n",
    "                             [5, 6]], dtype=tf.float16)\n",
    "print(rank_2_tensor)"
   ]
  },
  {
   "cell_type": "code",
   "execution_count": 7,
   "id": "26949607",
   "metadata": {},
   "outputs": [
    {
     "data": {
      "text/plain": [
       "<tf.Tensor: shape=(), dtype=int32, numpy=2>"
      ]
     },
     "execution_count": 7,
     "metadata": {},
     "output_type": "execute_result"
    }
   ],
   "source": [
    "tf.rank(rank_2_tensor)"
   ]
  },
  {
   "cell_type": "markdown",
   "id": "9878c3c5",
   "metadata": {},
   "source": [
    "## Variabili\n",
    "\n",
    "Le variabili sono il corpo principale di tensorflow utilizzato nella ottimizzazione dei modelli.\n",
    "Una variabile viene creata e tracciata attraverso la classe `tf.Variable`"
   ]
  },
  {
   "cell_type": "code",
   "execution_count": 8,
   "id": "7cd7ec26",
   "metadata": {},
   "outputs": [],
   "source": [
    "# tf.debugging.set_log_device_placement(True)\n",
    "\n",
    "my_tensor = tf.constant([[1.0, 2.0], [3.0, 4.0]])\n",
    "my_variable = tf.Variable(my_tensor)\n",
    "\n",
    "# Variables can be all kinds of types, just like tensors\n",
    "bool_variable = tf.Variable([False, False, False, True])\n",
    "complex_variable = tf.Variable([5 + 4j, 6 + 1j])"
   ]
  },
  {
   "cell_type": "markdown",
   "id": "63ea9720",
   "metadata": {},
   "source": [
    "come i tensori anche le variabili supportano le proprietà `shape` e `dtype`"
   ]
  },
  {
   "cell_type": "code",
   "execution_count": 9,
   "id": "05174454",
   "metadata": {},
   "outputs": [
    {
     "name": "stdout",
     "output_type": "stream",
     "text": [
      "Shape:  (2, 2)\n",
      "DType:  <dtype: 'float32'>\n",
      "As NumPy:  [[1. 2.]\n",
      " [3. 4.]]\n"
     ]
    }
   ],
   "source": [
    "print(\"Shape: \", my_variable.shape)\n",
    "print(\"DType: \", my_variable.dtype)\n",
    "print(\"As NumPy: \", my_variable.numpy())"
   ]
  },
  {
   "cell_type": "markdown",
   "id": "58b86ace",
   "metadata": {},
   "source": [
    "e le operazioni valide per i tensori sono valide anche per le variabili ad esempio"
   ]
  },
  {
   "cell_type": "code",
   "execution_count": 10,
   "id": "f6df417b",
   "metadata": {},
   "outputs": [
    {
     "name": "stdout",
     "output_type": "stream",
     "text": [
      "A variable: <tf.Variable 'Variable:0' shape=(2, 2) dtype=float32, numpy=\n",
      "array([[1., 2.],\n",
      "       [3., 4.]], dtype=float32)>\n",
      "\n",
      "Viewed as a tensor: tf.Tensor(\n",
      "[[1. 2.]\n",
      " [3. 4.]], shape=(2, 2), dtype=float32)\n",
      "\n",
      "Index of highest value: tf.Tensor([1 1], shape=(2,), dtype=int64)\n",
      "\n",
      "Copying and reshaping:  tf.Tensor([[1. 2. 3. 4.]], shape=(1, 4), dtype=float32)\n"
     ]
    }
   ],
   "source": [
    "print(\"A variable:\", my_variable)\n",
    "print(\"\\nViewed as a tensor:\", tf.convert_to_tensor(my_variable))\n",
    "print(\"\\nIndex of highest value:\", tf.argmax(my_variable))\n",
    "\n",
    "# This creates a new tensor; it does not reshape the variable.\n",
    "print(\"\\nCopying and reshaping: \", tf.reshape(my_variable, [1,4]))"
   ]
  },
  {
   "cell_type": "code",
   "execution_count": 12,
   "id": "3ddf1ee2",
   "metadata": {},
   "outputs": [
    {
     "data": {
      "text/plain": [
       "TensorShape([3, 2])"
      ]
     },
     "execution_count": 12,
     "metadata": {},
     "output_type": "execute_result"
    }
   ],
   "source": [
    "rank_2_tensor.shape"
   ]
  },
  {
   "cell_type": "markdown",
   "id": "c27d046d",
   "metadata": {},
   "source": [
    "## Reshape \n",
    "\n",
    "Questa operazione consente di cambiare la dimensione di un tensore"
   ]
  },
  {
   "cell_type": "code",
   "execution_count": 13,
   "id": "3b7441bc",
   "metadata": {},
   "outputs": [],
   "source": [
    "tensor1 = tf.ones([1,2,3])  # tf.ones() creates a shape [1,2,3] tensor full of ones\n",
    "tensor2 = tf.reshape(tensor1, [2,3,1])  # reshape existing data to shape [2,3,1]\n",
    "tensor3 = tf.reshape(tensor2, [3, -1])  # -1 tells the tensor to calculate the size of the dimension in that place\n",
    "                                        # this will reshape the tensor to [3,3]\n",
    "                                                                             \n",
    "# The numer of elements in the reshaped tensor MUST match the number in the original"
   ]
  },
  {
   "cell_type": "code",
   "execution_count": 14,
   "id": "de155d9b",
   "metadata": {},
   "outputs": [
    {
     "name": "stdout",
     "output_type": "stream",
     "text": [
      "tf.Tensor(\n",
      "[[[1. 1. 1.]\n",
      "  [1. 1. 1.]]], shape=(1, 2, 3), dtype=float32)\n",
      "tf.Tensor(\n",
      "[[[1.]\n",
      "  [1.]\n",
      "  [1.]]\n",
      "\n",
      " [[1.]\n",
      "  [1.]\n",
      "  [1.]]], shape=(2, 3, 1), dtype=float32)\n",
      "tf.Tensor(\n",
      "[[1. 1.]\n",
      " [1. 1.]\n",
      " [1. 1.]], shape=(3, 2), dtype=float32)\n"
     ]
    }
   ],
   "source": [
    "print(tensor1)\n",
    "print(tensor2)\n",
    "print(tensor3)"
   ]
  },
  {
   "cell_type": "markdown",
   "id": "ae508698",
   "metadata": {},
   "source": [
    "## Slicing\n",
    "\n",
    "Questa operazione è la stessa vista in numpy"
   ]
  },
  {
   "cell_type": "code",
   "execution_count": 15,
   "id": "64ee8a1c",
   "metadata": {},
   "outputs": [
    {
     "name": "stdout",
     "output_type": "stream",
     "text": [
      "tf.Tensor(2, shape=(), dtype=int32)\n",
      "(4, 5)\n"
     ]
    }
   ],
   "source": [
    "# Creating a 2D tensor\n",
    "matrix = [[1,2,3,4,5],\n",
    "          [6,7,8,9,10],\n",
    "          [11,12,13,14,15],\n",
    "          [16,17,18,19,20]]\n",
    "\n",
    "tensor = tf.Variable(matrix, dtype=tf.int32) \n",
    "print(tf.rank(tensor))\n",
    "print(tensor.shape)"
   ]
  },
  {
   "cell_type": "code",
   "execution_count": 17,
   "id": "1a750676",
   "metadata": {},
   "outputs": [
    {
     "name": "stdout",
     "output_type": "stream",
     "text": [
      "tf.Tensor(3, shape=(), dtype=int32)\n",
      "tf.Tensor([1 2 3 4 5], shape=(5,), dtype=int32)\n",
      "tf.Tensor([ 1  6 11 16], shape=(4,), dtype=int32)\n",
      "tf.Tensor(\n",
      "[[ 6  7  8  9 10]\n",
      " [16 17 18 19 20]], shape=(2, 5), dtype=int32)\n",
      "tf.Tensor([ 6 11], shape=(2,), dtype=int32)\n"
     ]
    }
   ],
   "source": [
    "# Now lets select some different rows and columns from our tensor\n",
    "\n",
    "three = tensor[0,2]  # selects the 3rd element from the 1st row\n",
    "print(three)  # -> 3\n",
    "\n",
    "row1 = tensor[0]  # selects the first row\n",
    "print(row1)\n",
    "\n",
    "column1 = tensor[:, 0]  # selects the first column\n",
    "print(column1)\n",
    "\n",
    "row_2_and_4 = tensor[1::2]  # selects second and fourth row\n",
    "print(row_2_and_4)\n",
    "\n",
    "column_1_in_row_2_and_3 = tensor[1:3, 0]\n",
    "print(column_1_in_row_2_and_3)"
   ]
  },
  {
   "cell_type": "markdown",
   "id": "0073bd43",
   "metadata": {},
   "source": [
    "## Creiamo la nostra prima rete neuronale\n",
    "\n",
    "come prima cosa andiamo ad utilizzare una libreria Keras che essenzialmente ha come scopo quello di semplificare lo sviluppo delle reti neuronali, poi andremo ad utilizzare un dataset giocattolo "
   ]
  },
  {
   "cell_type": "code",
   "execution_count": 18,
   "id": "a37991b1",
   "metadata": {},
   "outputs": [],
   "source": [
    "from tensorflow import keras"
   ]
  },
  {
   "cell_type": "code",
   "execution_count": 19,
   "id": "5289cff1",
   "metadata": {},
   "outputs": [
    {
     "name": "stdout",
     "output_type": "stream",
     "text": [
      "Downloading data from https://storage.googleapis.com/tensorflow/tf-keras-datasets/train-labels-idx1-ubyte.gz\n",
      "32768/29515 [=================================] - 0s 3us/step\n",
      "Downloading data from https://storage.googleapis.com/tensorflow/tf-keras-datasets/train-images-idx3-ubyte.gz\n",
      "26427392/26421880 [==============================] - 23s 1us/step\n",
      "Downloading data from https://storage.googleapis.com/tensorflow/tf-keras-datasets/t10k-labels-idx1-ubyte.gz\n",
      "8192/5148 [===============================================] - 0s 0us/step\n",
      "Downloading data from https://storage.googleapis.com/tensorflow/tf-keras-datasets/t10k-images-idx3-ubyte.gz\n",
      "4423680/4422102 [==============================] - 4s 1us/step\n"
     ]
    }
   ],
   "source": [
    "fashion_mnist = keras.datasets.fashion_mnist  # load dataset\n",
    "(train_images, train_labels), (test_images, test_labels) = fashion_mnist.load_data()  # split into tetsing and training"
   ]
  },
  {
   "cell_type": "markdown",
   "id": "145314be",
   "metadata": {},
   "source": [
    "controlliamo la dimensione del dataset di trainig e di test"
   ]
  },
  {
   "cell_type": "code",
   "execution_count": 20,
   "id": "2da76963",
   "metadata": {},
   "outputs": [
    {
     "data": {
      "text/plain": [
       "(60000, 28, 28)"
      ]
     },
     "execution_count": 20,
     "metadata": {},
     "output_type": "execute_result"
    }
   ],
   "source": [
    "train_images.shape"
   ]
  },
  {
   "cell_type": "code",
   "execution_count": 21,
   "id": "66b2041a",
   "metadata": {},
   "outputs": [
    {
     "data": {
      "text/plain": [
       "(10000, 28, 28)"
      ]
     },
     "execution_count": 21,
     "metadata": {},
     "output_type": "execute_result"
    }
   ],
   "source": [
    "test_images.shape"
   ]
  },
  {
   "cell_type": "markdown",
   "id": "3077a4fd",
   "metadata": {},
   "source": [
    "in base a quanto visto prima andiamo ad analizzare il valore delle etichette"
   ]
  },
  {
   "cell_type": "code",
   "execution_count": 22,
   "id": "80277db4",
   "metadata": {},
   "outputs": [
    {
     "data": {
      "text/plain": [
       "array([9, 0, 0, 3, 0, 2, 7, 2, 5, 5], dtype=uint8)"
      ]
     },
     "execution_count": 22,
     "metadata": {},
     "output_type": "execute_result"
    }
   ],
   "source": [
    "train_labels[:10]"
   ]
  },
  {
   "cell_type": "markdown",
   "id": "cc9ac813",
   "metadata": {},
   "source": [
    "vediamo una immagine per curiosità"
   ]
  },
  {
   "cell_type": "code",
   "execution_count": 24,
   "id": "7a8ff90f",
   "metadata": {},
   "outputs": [
    {
     "data": {
      "image/png": "[encoded data removed]",
      "text/plain": [
       "<Figure size 432x288 with 2 Axes>"
      ]
     },
     "metadata": {
      "needs_background": "light"
     },
     "output_type": "display_data"
    }
   ],
   "source": [
    "import matplotlib.pyplot as plt\n",
    "\n",
    "plt.figure()\n",
    "plt.imshow(train_images[1])\n",
    "plt.colorbar()\n",
    "plt.grid(False)\n",
    "plt.show()"
   ]
  },
  {
   "cell_type": "markdown",
   "id": "b0b6a143",
   "metadata": {},
   "source": [
    "## Preprocessamento dei dati\n",
    "\n",
    "Come prima cosa andiamo a normalizzare i dati presenti nel dataset affinchè i valori siano compresi tra 0 e 1"
   ]
  },
  {
   "cell_type": "code",
   "execution_count": 25,
   "id": "e4948824",
   "metadata": {},
   "outputs": [],
   "source": [
    "train_images = train_images / 255.0\n",
    "test_images = test_images / 255.0"
   ]
  },
  {
   "cell_type": "markdown",
   "id": "9f697632",
   "metadata": {},
   "source": [
    "## Creazione del modello\n",
    "\n",
    "E' giunto il momento di creare il nostro primo modello, utilizziamo il sistema più semplice messo a disposizione da keras"
   ]
  },
  {
   "cell_type": "code",
   "execution_count": 26,
   "id": "c9fc07f2",
   "metadata": {},
   "outputs": [],
   "source": [
    "model = keras.Sequential([\n",
    "    keras.layers.Flatten(input_shape=(28, 28)),  # input layer (1)\n",
    "    keras.layers.Dense(128, activation='relu'),  # hidden layer (2)\n",
    "    keras.layers.Dense(10, activation='softmax') # output layer (3)\n",
    "])"
   ]
  },
  {
   "cell_type": "markdown",
   "id": "b3b42fc4",
   "metadata": {},
   "source": [
    "### Compilazione del modello \n",
    "\n",
    "Una volta definito il modello va specificato l'ottimizzazione una funzione loss "
   ]
  },
  {
   "cell_type": "code",
   "execution_count": 27,
   "id": "243ba488",
   "metadata": {},
   "outputs": [],
   "source": [
    "model.compile(optimizer='adam',\n",
    "              loss='sparse_categorical_crossentropy',\n",
    "              metrics=['accuracy'])"
   ]
  },
  {
   "cell_type": "markdown",
   "id": "9ebb0c4d",
   "metadata": {},
   "source": [
    "## Train del modello\n",
    "\n",
    "una volta compilato il modello possiamo passare alla fase di training"
   ]
  },
  {
   "cell_type": "code",
   "execution_count": 28,
   "id": "ad48f991",
   "metadata": {},
   "outputs": [
    {
     "name": "stdout",
     "output_type": "stream",
     "text": [
      "Epoch 1/10\n",
      "1875/1875 [==============================] - 2s 918us/step - loss: 0.4993 - accuracy: 0.8246\n",
      "Epoch 2/10\n",
      "1875/1875 [==============================] - 2s 875us/step - loss: 0.3769 - accuracy: 0.8642\n",
      "Epoch 3/10\n",
      "1875/1875 [==============================] - 2s 857us/step - loss: 0.3386 - accuracy: 0.8760\n",
      "Epoch 4/10\n",
      "1875/1875 [==============================] - 2s 909us/step - loss: 0.3153 - accuracy: 0.8834\n",
      "Epoch 5/10\n",
      "1875/1875 [==============================] - 2s 813us/step - loss: 0.2961 - accuracy: 0.8915\n",
      "Epoch 6/10\n",
      "1875/1875 [==============================] - 2s 819us/step - loss: 0.2813 - accuracy: 0.8964\n",
      "Epoch 7/10\n",
      "1875/1875 [==============================] - 2s 898us/step - loss: 0.2699 - accuracy: 0.8998\n",
      "Epoch 8/10\n",
      "1875/1875 [==============================] - 2s 870us/step - loss: 0.2580 - accuracy: 0.9043\n",
      "Epoch 9/10\n",
      "1875/1875 [==============================] - 2s 812us/step - loss: 0.2476 - accuracy: 0.9086\n",
      "Epoch 10/10\n",
      "1875/1875 [==============================] - 2s 829us/step - loss: 0.2396 - accuracy: 0.9101\n"
     ]
    },
    {
     "data": {
      "text/plain": [
       "<tensorflow.python.keras.callbacks.History at 0x25288aceb20>"
      ]
     },
     "execution_count": 28,
     "metadata": {},
     "output_type": "execute_result"
    }
   ],
   "source": [
    "model.fit(train_images, train_labels, epochs=10)"
   ]
  },
  {
   "cell_type": "code",
   "execution_count": 29,
   "id": "a7fd7cbe",
   "metadata": {},
   "outputs": [
    {
     "name": "stdout",
     "output_type": "stream",
     "text": [
      "313/313 [==============================] - 0s 678us/step - loss: 0.3314 - accuracy: 0.8838\n",
      "Test accuracy: 0.8838000297546387\n"
     ]
    }
   ],
   "source": [
    "test_loss, test_acc = model.evaluate(test_images,  test_labels, verbose=1) \n",
    "\n",
    "print('Test accuracy:', test_acc)"
   ]
  },
  {
   "cell_type": "code",
   "execution_count": 30,
   "id": "ebe9bd07",
   "metadata": {},
   "outputs": [],
   "source": [
    "predictions = model.predict(test_images)"
   ]
  },
  {
   "cell_type": "code",
   "execution_count": 35,
   "id": "a2b5f1c8",
   "metadata": {},
   "outputs": [
    {
     "data": {
      "text/plain": [
       "array([7.5675034e-06, 1.4708026e-12, 9.9912459e-01, 2.5001498e-12,\n",
       "       7.7842962e-04, 3.6197243e-11, 8.9424553e-05, 7.0633469e-16,\n",
       "       3.8475765e-09, 8.0715199e-16], dtype=float32)"
      ]
     },
     "execution_count": 35,
     "metadata": {},
     "output_type": "execute_result"
    }
   ],
   "source": [
    "predictions[1]"
   ]
  },
  {
   "cell_type": "code",
   "execution_count": 36,
   "id": "73f7d3a4",
   "metadata": {},
   "outputs": [
    {
     "data": {
      "text/plain": [
       "2"
      ]
     },
     "execution_count": 36,
     "metadata": {},
     "output_type": "execute_result"
    }
   ],
   "source": [
    "import numpy as np\n",
    "np.argmax(predictions[1])"
   ]
  },
  {
   "cell_type": "code",
   "execution_count": 37,
   "id": "d51862e5",
   "metadata": {},
   "outputs": [
    {
     "name": "stdout",
     "output_type": "stream",
     "text": [
      "Pick a number: 12\n"
     ]
    },
    {
     "data": {
      "image/png": "[encoded data removed]",
      "text/plain": [
       "<Figure size 432x288 with 2 Axes>"
      ]
     },
     "metadata": {
      "needs_background": "light"
     },
     "output_type": "display_data"
    }
   ],
   "source": [
    "COLOR = 'white'\n",
    "plt.rcParams['text.color'] = COLOR\n",
    "plt.rcParams['axes.labelcolor'] = COLOR\n",
    "\n",
    "def predict(model, image, correct_label):\n",
    "  class_names = ['T-shirt/top', 'Trouser', 'Pullover', 'Dress', 'Coat',\n",
    "               'Sandal', 'Shirt', 'Sneaker', 'Bag', 'Ankle boot']\n",
    "  prediction = model.predict(np.array([image]))\n",
    "  predicted_class = class_names[np.argmax(prediction)]\n",
    "\n",
    "  show_image(image, class_names[correct_label], predicted_class)\n",
    "\n",
    "\n",
    "def show_image(img, label, guess):\n",
    "  plt.figure()\n",
    "  plt.imshow(img, cmap=plt.cm.binary)\n",
    "  plt.title(\"Excpected: \" + label)\n",
    "  plt.xlabel(\"Guess: \" + guess)\n",
    "  plt.colorbar()\n",
    "  plt.grid(False)\n",
    "  plt.show()\n",
    "\n",
    "\n",
    "def get_number():\n",
    "  while True:\n",
    "    num = input(\"Pick a number: \")\n",
    "    if num.isdigit():\n",
    "      num = int(num)\n",
    "      if 0 <= num <= 1000:\n",
    "        return int(num)\n",
    "    else:\n",
    "      print(\"Try again...\")\n",
    "\n",
    "num = get_number()\n",
    "image = test_images[num]\n",
    "label = test_labels[num]\n",
    "predict(model, image, label)\n"
   ]
  },
  {
   "cell_type": "code",
   "execution_count": null,
   "id": "5314ccbe",
   "metadata": {},
   "outputs": [],
   "source": []
  }
 ],
 "metadata": {
  "kernelspec": {
   "display_name": "Python 3",
   "language": "python",
   "name": "python3"
  },
  "language_info": {
   "codemirror_mode": {
    "name": "ipython",
    "version": 3
   },
   "file_extension": ".py",
   "mimetype": "text/x-python",
   "name": "python",
   "nbconvert_exporter": "python",
   "pygments_lexer": "ipython3",
   "version": "3.8.8"
  }
 },
 "nbformat": 4,
 "nbformat_minor": 5
}
